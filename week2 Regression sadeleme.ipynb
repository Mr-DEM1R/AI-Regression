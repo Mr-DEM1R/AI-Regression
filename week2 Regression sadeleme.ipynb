{
 "cells": [
  {
   "cell_type": "code",
   "execution_count": null,
   "id": "66f2475f",
   "metadata": {
    "scrolled": true
   },
   "outputs": [],
   "source": [
    "import matplotlib.pyplot as plt\n",
    "import seaborn as sb\n",
    "import pandas as pd\n",
    "from sklearn.linear_model import LinearRegression\n",
    "from sklearn.model_selection import train_test_split\n",
    "from sklearn import metrics\n",
    "import numpy as np #allow data to be structured in arrays format  .csv gorunce bunu kesin yapmaliyiz\n",
    "from sklearn.svm import SVR\n",
    "from sklearn.tree import DecisionTreeRegressor\n",
    "from sklearn.ensemble import RandomForestRegressor"
   ]
  },
  {
   "cell_type": "code",
   "execution_count": null,
   "id": "2344cb61",
   "metadata": {},
   "outputs": [],
   "source": [
    "\n",
    "dataset = pd.read_csv('50_Startups.csv')"
   ]
  },
  {
   "cell_type": "code",
   "execution_count": null,
   "id": "27fb1734",
   "metadata": {
    "scrolled": true
   },
   "outputs": [],
   "source": [
    "dataset"
   ]
  },
  {
   "cell_type": "code",
   "execution_count": null,
   "id": "c61b9f4a",
   "metadata": {},
   "outputs": [],
   "source": [
    "sb.pairplot(dataset, hue = 'State') # ikincisi illlere gore ayirmak icin"
   ]
  },
  {
   "cell_type": "code",
   "execution_count": null,
   "id": "7c5025ac",
   "metadata": {},
   "outputs": [],
   "source": [
    "#index location -> iloc[start:end row , start col : end col]\n",
    "test = dataset.iloc[10 :20 ,2:4]\n",
    "test"
   ]
  },
  {
   "cell_type": "code",
   "execution_count": null,
   "id": "1a416d25",
   "metadata": {},
   "outputs": [],
   "source": [
    "X = dataset.iloc[: , :4]\n",
    "Y = dataset.iloc[: , 4]\n",
    "\n",
    "states = pd.get_dummies(X['State'])\n",
    "states\n"
   ]
  },
  {
   "cell_type": "code",
   "execution_count": null,
   "id": "109c241d",
   "metadata": {},
   "outputs": [],
   "source": [
    "#axis=0 (refeering to rows)\n",
    "#axis=1 (reffering to col)\n",
    "X = X.drop('State', axis=1)\n",
    "X"
   ]
  },
  {
   "cell_type": "code",
   "execution_count": null,
   "id": "32f8133c",
   "metadata": {},
   "outputs": [],
   "source": [
    "#CONCATENATION PROCESS(MERGING)\n",
    "X = pd.concat([X, states], axis=1)\n",
    "X"
   ]
  },
  {
   "cell_type": "code",
   "execution_count": null,
   "id": "878fa3ac",
   "metadata": {},
   "outputs": [],
   "source": [
    "X_train, X_test, Y_train , Y_test = train_test_split(X,Y,test_size=0.1 ,random_state=0)\n",
    "X_test"
   ]
  },
  {
   "cell_type": "code",
   "execution_count": null,
   "id": "b58ec795",
   "metadata": {},
   "outputs": [],
   "source": [
    "#regressor = LinearRegression()\n",
    "#regressor.fit(X_train, Y_train)\n",
    "\n",
    "#regressor = SVR(kernel = 'linear' , C=0.8)  #SVR Lineer cizgiye olan uzakliga gore hata belirleme\n",
    "#regressor.fit(X_train , Y_train)\n",
    "\n",
    "#regressor = DecisionTreeRegressor(max_depth=12)  \n",
    "#regressor.fit(X_train , Y_train)\n",
    "\n",
    "regressor = RandomForestRegressor(n_estimators=2)  \n",
    "regressor.fit(X_train , Y_train)"
   ]
  },
  {
   "cell_type": "code",
   "execution_count": null,
   "id": "c0e10b8e",
   "metadata": {},
   "outputs": [],
   "source": [
    "pred =regressor.predict(X_test)\n",
    "print(Y_test)\n",
    "print(pred)\n"
   ]
  },
  {
   "cell_type": "code",
   "execution_count": null,
   "id": "f65765bc",
   "metadata": {},
   "outputs": [],
   "source": [
    "\n",
    "r_square = metrics.r2_score(Y_test, pred)   #sonucu test etmek icin kullanilir\n",
    "print(r_square)"
   ]
  },
  {
   "cell_type": "code",
   "execution_count": null,
   "id": "e0004efe",
   "metadata": {},
   "outputs": [],
   "source": []
  },
  {
   "cell_type": "code",
   "execution_count": null,
   "id": "bb5f4f63",
   "metadata": {},
   "outputs": [],
   "source": []
  }
 ],
 "metadata": {
  "kernelspec": {
   "display_name": "Python 3 (ipykernel)",
   "language": "python",
   "name": "python3"
  },
  "language_info": {
   "codemirror_mode": {
    "name": "ipython",
    "version": 3
   },
   "file_extension": ".py",
   "mimetype": "text/x-python",
   "name": "python",
   "nbconvert_exporter": "python",
   "pygments_lexer": "ipython3",
   "version": "3.9.7"
  }
 },
 "nbformat": 4,
 "nbformat_minor": 5
}
